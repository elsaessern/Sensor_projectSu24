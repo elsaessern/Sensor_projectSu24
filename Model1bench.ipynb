{
  "cells": [
    {
      "cell_type": "markdown",
      "metadata": {
        "id": "view-in-github",
        "colab_type": "text"
      },
      "source": [
        "<a href=\"https://colab.research.google.com/github/elsaessern/Sensor_projectSu24/blob/main/Model1bench.ipynb\" target=\"_parent\"><img src=\"https://colab.research.google.com/assets/colab-badge.svg\" alt=\"Open In Colab\"/></a>"
      ]
    },
    {
      "cell_type": "code",
      "execution_count": null,
      "metadata": {
        "id": "1eCo4S73c6rB"
      },
      "outputs": [],
      "source": [
        "import pandas as pd\n",
        "import numpy as np\n",
        "from sklearn.ensemble import HistGradientBoostingRegressor\n",
        "import random"
      ]
    },
    {
      "cell_type": "code",
      "execution_count": null,
      "metadata": {
        "id": "kawsyPPVdZAu"
      },
      "outputs": [],
      "source": [
        "# convert to pandas dataframe\n",
        "sensordf = pd.read_csv('https://raw.githubusercontent.com/elsaessern/Sensor_projectSu24/main/AirQualityUCI.csv',sep=';')"
      ]
    },
    {
      "cell_type": "code",
      "execution_count": null,
      "metadata": {
        "colab": {
          "base_uri": "https://localhost:8080/"
        },
        "id": "tL9R6Pz8k0kg",
        "outputId": "7340949f-2404-4191-8fcd-5622d3257d5c"
      },
      "outputs": [
        {
          "output_type": "execute_result",
          "data": {
            "text/plain": [
              "(9471, 17)"
            ]
          },
          "metadata": {},
          "execution_count": 4
        }
      ],
      "source": [
        "sensordf.shape"
      ]
    },
    {
      "cell_type": "code",
      "execution_count": null,
      "metadata": {
        "colab": {
          "base_uri": "https://localhost:8080/"
        },
        "id": "BB5GhENanKT8",
        "outputId": "c7ac7f98-773c-45ee-beeb-d557c1ca52b4"
      },
      "outputs": [
        {
          "output_type": "execute_result",
          "data": {
            "text/plain": [
              "Index(['Date', 'Time', 'CO(GT)', 'PT08.S1(CO)', 'NMHC(GT)', 'C6H6(GT)',\n",
              "       'PT08.S2(NMHC)', 'NOx(GT)', 'PT08.S3(NOx)', 'NO2(GT)', 'PT08.S4(NO2)',\n",
              "       'PT08.S5(O3)', 'T', 'RH', 'AH', 'Unnamed: 15', 'Unnamed: 16'],\n",
              "      dtype='object')"
            ]
          },
          "metadata": {},
          "execution_count": 5
        }
      ],
      "source": [
        "sensordf.columns"
      ]
    },
    {
      "cell_type": "code",
      "execution_count": null,
      "metadata": {
        "colab": {
          "base_uri": "https://localhost:8080/"
        },
        "id": "cOQjIngioSLC",
        "outputId": "c6db8df5-29c0-4067-bd62-76de56f588ba"
      },
      "outputs": [
        {
          "output_type": "execute_result",
          "data": {
            "text/plain": [
              "0       False\n",
              "1       False\n",
              "2       False\n",
              "3       False\n",
              "4       False\n",
              "        ...  \n",
              "9466     True\n",
              "9467     True\n",
              "9468     True\n",
              "9469     True\n",
              "9470     True\n",
              "Name: PT08.S1(CO), Length: 9471, dtype: bool"
            ]
          },
          "metadata": {},
          "execution_count": 6
        }
      ],
      "source": [
        "sensordf['PT08.S1(CO)']\n",
        "pd.isna(sensordf['PT08.S1(CO)'])\n"
      ]
    },
    {
      "cell_type": "code",
      "source": [
        "# sensordf includes empty rows and columns from csv so we drop them here\n",
        "sensordf = sensordf.dropna(axis=0,how='all')\n",
        "sensordf = sensordf.dropna(axis=1,how='all')\n",
        "print(sensordf)\n",
        "pd.isna(sensordf).sum()"
      ],
      "metadata": {
        "colab": {
          "base_uri": "https://localhost:8080/"
        },
        "id": "QZkqUsGsMK4A",
        "outputId": "bc9984eb-5279-4470-95bf-f32391157074"
      },
      "execution_count": null,
      "outputs": [
        {
          "output_type": "stream",
          "name": "stdout",
          "text": [
            "            Date      Time CO(GT)  PT08.S1(CO)  NMHC(GT) C6H6(GT)  \\\n",
            "0     10/03/2004  18.00.00    2,6       1360.0     150.0     11,9   \n",
            "1     10/03/2004  19.00.00      2       1292.0     112.0      9,4   \n",
            "2     10/03/2004  20.00.00    2,2       1402.0      88.0      9,0   \n",
            "3     10/03/2004  21.00.00    2,2       1376.0      80.0      9,2   \n",
            "4     10/03/2004  22.00.00    1,6       1272.0      51.0      6,5   \n",
            "...          ...       ...    ...          ...       ...      ...   \n",
            "9352  04/04/2005  10.00.00    3,1       1314.0    -200.0     13,5   \n",
            "9353  04/04/2005  11.00.00    2,4       1163.0    -200.0     11,4   \n",
            "9354  04/04/2005  12.00.00    2,4       1142.0    -200.0     12,4   \n",
            "9355  04/04/2005  13.00.00    2,1       1003.0    -200.0      9,5   \n",
            "9356  04/04/2005  14.00.00    2,2       1071.0    -200.0     11,9   \n",
            "\n",
            "      PT08.S2(NMHC)  NOx(GT)  PT08.S3(NOx)  NO2(GT)  PT08.S4(NO2)  \\\n",
            "0            1046.0    166.0        1056.0    113.0        1692.0   \n",
            "1             955.0    103.0        1174.0     92.0        1559.0   \n",
            "2             939.0    131.0        1140.0    114.0        1555.0   \n",
            "3             948.0    172.0        1092.0    122.0        1584.0   \n",
            "4             836.0    131.0        1205.0    116.0        1490.0   \n",
            "...             ...      ...           ...      ...           ...   \n",
            "9352         1101.0    472.0         539.0    190.0        1374.0   \n",
            "9353         1027.0    353.0         604.0    179.0        1264.0   \n",
            "9354         1063.0    293.0         603.0    175.0        1241.0   \n",
            "9355          961.0    235.0         702.0    156.0        1041.0   \n",
            "9356         1047.0    265.0         654.0    168.0        1129.0   \n",
            "\n",
            "      PT08.S5(O3)     T    RH      AH  \n",
            "0          1268.0  13,6  48,9  0,7578  \n",
            "1           972.0  13,3  47,7  0,7255  \n",
            "2          1074.0  11,9  54,0  0,7502  \n",
            "3          1203.0  11,0  60,0  0,7867  \n",
            "4          1110.0  11,2  59,6  0,7888  \n",
            "...           ...   ...   ...     ...  \n",
            "9352       1729.0  21,9  29,3  0,7568  \n",
            "9353       1269.0  24,3  23,7  0,7119  \n",
            "9354       1092.0  26,9  18,3  0,6406  \n",
            "9355        770.0  28,3  13,5  0,5139  \n",
            "9356        816.0  28,5  13,1  0,5028  \n",
            "\n",
            "[9357 rows x 15 columns]\n"
          ]
        },
        {
          "output_type": "execute_result",
          "data": {
            "text/plain": [
              "Date             0\n",
              "Time             0\n",
              "CO(GT)           0\n",
              "PT08.S1(CO)      0\n",
              "NMHC(GT)         0\n",
              "C6H6(GT)         0\n",
              "PT08.S2(NMHC)    0\n",
              "NOx(GT)          0\n",
              "PT08.S3(NOx)     0\n",
              "NO2(GT)          0\n",
              "PT08.S4(NO2)     0\n",
              "PT08.S5(O3)      0\n",
              "T                0\n",
              "RH               0\n",
              "AH               0\n",
              "dtype: int64"
            ]
          },
          "metadata": {},
          "execution_count": 7
        }
      ]
    },
    {
      "cell_type": "code",
      "execution_count": null,
      "metadata": {
        "id": "elnfNAoIlA9G"
      },
      "outputs": [],
      "source": [
        "# define a function that will split data into 70% training and 30% test data\n",
        "def split_data(data):\n",
        "  L = []\n",
        "  # split data into ten sections of time (separate rows into 10ths)\n",
        "  for i in range(0,10):\n",
        "    L.append(data.loc[i*int(data.shape[0]*0.1):(i+1)*int(data.shape[0]*0.1)]  )\n",
        "\n",
        "  # randomize the order of the 10ths to minimize date/time bias\n",
        "  random.shuffle(L)\n",
        "\n",
        "  # assign first seven 10ths of shuffled data to training data frame and last three 10ths to the test data frame\n",
        "  train = pd.concat(L[:7])\n",
        "  test = pd.concat(L[7:])\n",
        "\n",
        "  return [train,test]\n"
      ]
    },
    {
      "cell_type": "code",
      "execution_count": null,
      "metadata": {
        "colab": {
          "base_uri": "https://localhost:8080/"
        },
        "id": "IY7Ft2emhz8m",
        "outputId": "6b78d338-6b15-43c0-ccf7-405cee2b363a"
      },
      "outputs": [
        {
          "output_type": "stream",
          "name": "stdout",
          "text": [
            "[            Date      Time CO(GT)  PT08.S1(CO)  NMHC(GT) C6H6(GT)  \\\n",
            "0     10/03/2004  18.00.00    2,6       1360.0     150.0     11,9   \n",
            "1     10/03/2004  19.00.00      2       1292.0     112.0      9,4   \n",
            "2     10/03/2004  20.00.00    2,2       1402.0      88.0      9,0   \n",
            "3     10/03/2004  21.00.00    2,2       1376.0      80.0      9,2   \n",
            "4     10/03/2004  22.00.00    1,6       1272.0      51.0      6,5   \n",
            "...          ...       ...    ...          ...       ...      ...   \n",
            "3736  13/08/2004  10.00.00    1,5       1016.0    -200.0      7,9   \n",
            "3737  13/08/2004  11.00.00    1,2        953.0    -200.0      5,8   \n",
            "3738  13/08/2004  12.00.00    1,1        918.0    -200.0      5,3   \n",
            "3739  13/08/2004  13.00.00    0,8        892.0    -200.0      4,2   \n",
            "3740  13/08/2004  14.00.00    0,7        841.0    -200.0      3,3   \n",
            "\n",
            "      PT08.S2(NMHC)  NOx(GT)  PT08.S3(NOx)  NO2(GT)  PT08.S4(NO2)  \\\n",
            "0            1046.0    166.0        1056.0    113.0        1692.0   \n",
            "1             955.0    103.0        1174.0     92.0        1559.0   \n",
            "2             939.0    131.0        1140.0    114.0        1555.0   \n",
            "3             948.0    172.0        1092.0    122.0        1584.0   \n",
            "4             836.0    131.0        1205.0    116.0        1490.0   \n",
            "...             ...      ...           ...      ...           ...   \n",
            "3736          896.0     91.0         766.0     93.0        1704.0   \n",
            "3737          801.0     83.0         868.0    109.0        1573.0   \n",
            "3738          779.0     65.0         896.0     89.0        1537.0   \n",
            "3739          724.0     55.0         971.0     71.0        1490.0   \n",
            "3740          673.0     40.0        1061.0     56.0        1394.0   \n",
            "\n",
            "      PT08.S5(O3)     T    RH      AH  \n",
            "0          1268.0  13,6  48,9  0,7578  \n",
            "1           972.0  13,3  47,7  0,7255  \n",
            "2          1074.0  11,9  54,0  0,7502  \n",
            "3          1203.0  11,0  60,0  0,7867  \n",
            "4          1110.0  11,2  59,6  0,7888  \n",
            "...           ...   ...   ...     ...  \n",
            "3736        820.0  33,4  35,1  1,7810  \n",
            "3737        657.0  35,7  29,0  1,6716  \n",
            "3738        551.0  35,8  27,7  1,6041  \n",
            "3739        511.0  36,3  27,4  1,6264  \n",
            "3740        451.0  33,6  28,8  1,4695  \n",
            "\n",
            "[6552 rows x 15 columns],             Date      Time CO(GT)  PT08.S1(CO)  NMHC(GT) C6H6(GT)  \\\n",
            "4675  21/09/2004  13.00.00    3,8       1277.0    -200.0     19,3   \n",
            "4676  21/09/2004  14.00.00    2,3       1142.0    -200.0     12,7   \n",
            "4677  21/09/2004  15.00.00    2,6       1207.0    -200.0     14,6   \n",
            "4678  21/09/2004  16.00.00    3,2       1252.0    -200.0     17,8   \n",
            "4679  21/09/2004  17.00.00      5       1399.0    -200.0     26,6   \n",
            "...          ...       ...    ...          ...       ...      ...   \n",
            "8411  24/02/2005  05.00.00    0,6        883.0    -200.0      1,2   \n",
            "8412  24/02/2005  06.00.00    0,8        968.0    -200.0      3,0   \n",
            "8413  24/02/2005  07.00.00    1,5       1071.0    -200.0      5,5   \n",
            "8414  24/02/2005  08.00.00    3,1       1310.0    -200.0     12,9   \n",
            "8415  24/02/2005  09.00.00    3,8       1332.0    -200.0     14,5   \n",
            "\n",
            "      PT08.S2(NMHC)  NOx(GT)  PT08.S3(NOx)  NO2(GT)  PT08.S4(NO2)  \\\n",
            "4675         1277.0    401.0         586.0    188.0        1846.0   \n",
            "4676         1073.0    275.0         671.0    143.0        1635.0   \n",
            "4677         1136.0    278.0         645.0    152.0        1696.0   \n",
            "4678         1233.0    342.0         618.0    168.0        1759.0   \n",
            "4679         1468.0    479.0         531.0    205.0        2072.0   \n",
            "...             ...      ...           ...      ...           ...   \n",
            "8411          518.0     87.0        1135.0     81.0         962.0   \n",
            "8412          652.0    197.0         937.0    131.0        1051.0   \n",
            "8413          787.0    290.0         755.0    170.0        1146.0   \n",
            "8414         1082.0    621.0         555.0    267.0        1400.0   \n",
            "8415         1132.0    645.0         522.0    269.0        1439.0   \n",
            "\n",
            "      PT08.S5(O3)     T    RH      AH  \n",
            "4675       1226.0  29,4  36,4  1,4718  \n",
            "4676        987.0  29,2  37,9  1,5116  \n",
            "4677       1024.0  30,5  34,9  1,5015  \n",
            "4678       1127.0  31,5  31,4  1,4310  \n",
            "4679       1442.0  31,2  31,4  1,3987  \n",
            "...           ...   ...   ...     ...  \n",
            "8411        606.0   3,3  84,5  0,6612  \n",
            "8412        788.0   3,6  84,4  0,6724  \n",
            "8413        947.0   3,8  83,8  0,6771  \n",
            "8414       1254.0   4,1  82,5  0,6819  \n",
            "8415       1352.0   3,9  83,9  0,6847  \n",
            "\n",
            "[2808 rows x 15 columns]]\n"
          ]
        }
      ],
      "source": [
        "# check if split_data works\n",
        "split = split_data(sensordf)\n",
        "print(split)\n",
        "\n",
        "train = split[0]\n",
        "test = split[1]"
      ]
    },
    {
      "cell_type": "code",
      "execution_count": null,
      "metadata": {
        "colab": {
          "base_uri": "https://localhost:8080/"
        },
        "id": "5ldNWM1C2w6u",
        "outputId": "bda50097-40ed-477a-a2aa-94d9aed22289"
      },
      "outputs": [
        {
          "output_type": "execute_result",
          "data": {
            "text/plain": [
              "2.3333333333333335"
            ]
          },
          "metadata": {},
          "execution_count": 10
        }
      ],
      "source": [
        "# check if ratio of rows is 7/3 = 2.33\n",
        "split[0].shape[0]/split[1].shape[0]\n"
      ]
    },
    {
      "cell_type": "code",
      "execution_count": null,
      "metadata": {
        "id": "kQB5w8D2egQl",
        "colab": {
          "base_uri": "https://localhost:8080/"
        },
        "outputId": "6903e257-7bfe-4490-8e34-5d5ee3a79af0"
      },
      "outputs": [
        {
          "output_type": "stream",
          "name": "stdout",
          "text": [
            "0       11.9\n",
            "1        9.4\n",
            "2        9.0\n",
            "3        9.2\n",
            "4        6.5\n",
            "        ... \n",
            "6547     7.9\n",
            "6548     5.8\n",
            "6549     5.3\n",
            "6550     4.2\n",
            "6551     3.3\n",
            "Length: 6552, dtype: object\n"
          ]
        }
      ],
      "source": [
        "# choose sensor data as input samples and ground truth benzene concentration as target\n",
        "X_train = train.loc[:,['PT08.S1(CO)','PT08.S2(NMHC)','PT08.S3(NOx)','PT08.S4(NO2)','PT08.S5(O3)']]\n",
        "Y_train = train.loc[:,['C6H6(GT)']]\n",
        "\n",
        "X_test = test.loc[:,['PT08.S1(CO)','PT08.S2(NMHC)','PT08.S3(NOx)','PT08.S4(NO2)','PT08.S5(O3)']]\n",
        "Y_test = test.loc[:,['C6H6(GT)']]\n",
        "\n",
        "\n",
        "Y_train = Y_train.to_numpy()\n",
        "Y_train = Y_train.flatten()\n",
        "\n",
        "Y_test = Y_test.to_numpy()\n",
        "Y_test = Y_test.flatten()\n",
        "\n",
        "# replace commas with dots\n",
        "parts = []\n",
        "for i in range(len(Y_train)):\n",
        "  parts.append(Y_train[i].strip().replace(',', '.'))\n",
        "\n",
        "Y_train = pd.Series(parts)\n",
        "\n",
        "parts = []\n",
        "for i in range(len(Y_test)):\n",
        "  parts.append(Y_test[i].strip().replace(',', '.'))\n",
        "\n",
        "Y_test = pd.Series(parts)\n",
        "\n",
        "\n",
        "print(Y_train)"
      ]
    },
    {
      "cell_type": "code",
      "source": [
        "# train histogram gradient boosting regressor model\n",
        "predictbenz = HistGradientBoostingRegressor(max_iter=1000).fit(X_train,Y_train)"
      ],
      "metadata": {
        "id": "IG_JWfDbKvOP"
      },
      "execution_count": null,
      "outputs": []
    },
    {
      "cell_type": "code",
      "source": [
        "predictbenz.score(X_test,Y_test)"
      ],
      "metadata": {
        "colab": {
          "base_uri": "https://localhost:8080/"
        },
        "id": "5Lbypvu5GuVg",
        "outputId": "c30c9b0b-6ecf-4679-8898-47b5cd139439"
      },
      "execution_count": null,
      "outputs": [
        {
          "output_type": "execute_result",
          "data": {
            "text/plain": [
              "0.9998956454918783"
            ]
          },
          "metadata": {},
          "execution_count": 20
        }
      ]
    },
    {
      "cell_type": "code",
      "source": [
        "out = predictbenz.predict(X_test)\n",
        "print(out)"
      ],
      "metadata": {
        "colab": {
          "base_uri": "https://localhost:8080/"
        },
        "id": "yJwSVwxltnd7",
        "outputId": "4c667241-95db-4a4e-be22-efc14e05bd07"
      },
      "execution_count": null,
      "outputs": [
        {
          "output_type": "stream",
          "name": "stdout",
          "text": [
            "[19.3021416  12.67734618 14.58034226 ...  5.48070935 12.91222325\n",
            " 14.45432373]\n"
          ]
        }
      ]
    },
    {
      "cell_type": "code",
      "source": [
        "print(Y_test.to_numpy().astype(float)-out)"
      ],
      "metadata": {
        "colab": {
          "base_uri": "https://localhost:8080/"
        },
        "id": "E91jDrLZvNI5",
        "outputId": "58ef68ba-e3cf-4dcf-cc5a-8d31498763cf"
      },
      "execution_count": null,
      "outputs": [
        {
          "output_type": "stream",
          "name": "stdout",
          "text": [
            "[-0.0021416   0.02265382  0.01965774 ...  0.01929065 -0.01222325\n",
            "  0.04567627]\n"
          ]
        }
      ]
    },
    {
      "cell_type": "code",
      "source": [],
      "metadata": {
        "id": "x-a2WcRGvdkd"
      },
      "execution_count": null,
      "outputs": []
    }
  ],
  "metadata": {
    "colab": {
      "provenance": [],
      "authorship_tag": "ABX9TyPGcif1xT2nkTWXyWPB7lzJ",
      "include_colab_link": true
    },
    "kernelspec": {
      "display_name": "Python 3",
      "name": "python3"
    },
    "language_info": {
      "name": "python"
    }
  },
  "nbformat": 4,
  "nbformat_minor": 0
}